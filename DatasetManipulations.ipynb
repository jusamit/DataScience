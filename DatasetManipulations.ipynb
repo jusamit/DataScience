{
    "cells": [
        {
            "metadata": {},
            "cell_type": "code",
            "source": "1+1",
            "execution_count": 1,
            "outputs": [
                {
                    "output_type": "stream",
                    "text": "Waiting for a Spark session to start...\nSpark Initialization Done! ApplicationId = app-20201018225947-0000\nKERNEL_ID = 9c2db4ae-b14c-4ddd-9bb3-e83853acc87d\n",
                    "name": "stdout"
                },
                {
                    "output_type": "execute_result",
                    "execution_count": 1,
                    "data": {
                        "text/plain": "2"
                    },
                    "metadata": {}
                }
            ]
        },
        {
            "metadata": {},
            "cell_type": "code",
            "source": "\nimport types\nimport pandas as pd\nfrom botocore.client import Config\nimport ibm_boto3\n\ndef __iter__(self): return 0\n\n# @hidden_cell\n# The following code accesses a file in your IBM Cloud Object Storage. It includes your credentials.\n# You might want to remove those credentials before you share the notebook.\nclient_f4929b4125df470ba83ad32760b72a14 = ibm_boto3.client(service_name='s3',\n    ibm_api_key_id='7XlR9hdZ7nWycNbcKYibqNoqGuQl_Uayi4k7fBcUm2nS',\n    ibm_auth_endpoint=\"https://iam.cloud.ibm.com/oidc/token\",\n    config=Config(signature_version='oauth'),\n    endpoint_url='https://s3-api.us-geo.objectstorage.service.networklayer.com')\n\nbody = client_f4929b4125df470ba83ad32760b72a14.get_object(Bucket='letusplaydatasets-donotdelete-pr-fukxku6k3l2w0g',Key='ClassResults.csv')['Body']\n# add missing __iter__ method, so pandas accepts body as file-like object\nif not hasattr(body, \"__iter__\"): body.__iter__ = types.MethodType( __iter__, body )\n\ndf_data_1 = pd.read_csv(body)\ndf_data_1.head()\n",
            "execution_count": 2,
            "outputs": [
                {
                    "output_type": "execute_result",
                    "execution_count": 2,
                    "data": {
                        "text/html": "<div>\n<style scoped>\n    .dataframe tbody tr th:only-of-type {\n        vertical-align: middle;\n    }\n\n    .dataframe tbody tr th {\n        vertical-align: top;\n    }\n\n    .dataframe thead th {\n        text-align: right;\n    }\n</style>\n<table border=\"1\" class=\"dataframe\">\n  <thead>\n    <tr style=\"text-align: right;\">\n      <th></th>\n      <th>Name</th>\n      <th>Class</th>\n      <th>Grade</th>\n      <th>DOB</th>\n    </tr>\n  </thead>\n  <tbody>\n    <tr>\n      <th>0</th>\n      <td>Amit</td>\n      <td>5</td>\n      <td>A</td>\n      <td>12/22/1979</td>\n    </tr>\n    <tr>\n      <th>1</th>\n      <td>Vaibhav</td>\n      <td>6</td>\n      <td>B</td>\n      <td>3/4/1976</td>\n    </tr>\n    <tr>\n      <th>2</th>\n      <td>Prem</td>\n      <td>6</td>\n      <td>C</td>\n      <td>5/5/1986</td>\n    </tr>\n  </tbody>\n</table>\n</div>",
                        "text/plain": "      Name  Class Grade         DOB\n0     Amit      5     A  12/22/1979\n1  Vaibhav      6     B    3/4/1976\n2     Prem      6     C    5/5/1986"
                    },
                    "metadata": {}
                }
            ]
        },
        {
            "metadata": {},
            "cell_type": "code",
            "source": "\nbody = client_f4929b4125df470ba83ad32760b72a14.get_object(Bucket='letusplaydatasets-donotdelete-pr-fukxku6k3l2w0g',Key='TopSellingAlbums.csv')['Body']\n# add missing __iter__ method, so pandas accepts body as file-like object\nif not hasattr(body, \"__iter__\"): body.__iter__ = types.MethodType( __iter__, body )\n\ndf_data_2 = pd.read_csv(body)\ndf_data_2.head()\n",
            "execution_count": 6,
            "outputs": [
                {
                    "output_type": "execute_result",
                    "execution_count": 6,
                    "data": {
                        "text/html": "<div>\n<style scoped>\n    .dataframe tbody tr th:only-of-type {\n        vertical-align: middle;\n    }\n\n    .dataframe tbody tr th {\n        vertical-align: top;\n    }\n\n    .dataframe thead th {\n        text-align: right;\n    }\n</style>\n<table border=\"1\" class=\"dataframe\">\n  <thead>\n    <tr style=\"text-align: right;\">\n      <th></th>\n      <th>Artist</th>\n      <th>Album</th>\n      <th>Released</th>\n      <th>Length</th>\n      <th>Genre</th>\n      <th>Music Recording Sales (millions)</th>\n      <th>Claimed Sales (millions)</th>\n      <th>Released.1</th>\n      <th>Soundtrack</th>\n      <th>Rating</th>\n    </tr>\n  </thead>\n  <tbody>\n    <tr>\n      <th>0</th>\n      <td>Michael Jackson</td>\n      <td>Thriller</td>\n      <td>1982</td>\n      <td>0:42:19</td>\n      <td>pop, rock, R&amp;B</td>\n      <td>46.0</td>\n      <td>65</td>\n      <td>30-Nov-82</td>\n      <td>NaN</td>\n      <td>10.0</td>\n    </tr>\n    <tr>\n      <th>1</th>\n      <td>AC/DC</td>\n      <td>Back in Black</td>\n      <td>1980</td>\n      <td>0:42:11</td>\n      <td>hard rock</td>\n      <td>26.1</td>\n      <td>50</td>\n      <td>25-Jul-80</td>\n      <td>NaN</td>\n      <td>9.5</td>\n    </tr>\n    <tr>\n      <th>2</th>\n      <td>Pink Floyd</td>\n      <td>The Dark Side of the Moon</td>\n      <td>1973</td>\n      <td>0:42:49</td>\n      <td>progressive rock</td>\n      <td>24.2</td>\n      <td>45</td>\n      <td>01-Mar-73</td>\n      <td>NaN</td>\n      <td>9.0</td>\n    </tr>\n    <tr>\n      <th>3</th>\n      <td>Whitney Houston</td>\n      <td>The Bodyguard</td>\n      <td>1992</td>\n      <td>0:57:44</td>\n      <td>R&amp;B, soul, pop</td>\n      <td>27.4</td>\n      <td>44</td>\n      <td>17-Nov-92</td>\n      <td>Y</td>\n      <td>8.5</td>\n    </tr>\n    <tr>\n      <th>4</th>\n      <td>Meat Loaf</td>\n      <td>Bat Out of Hell</td>\n      <td>1977</td>\n      <td>0:46:33</td>\n      <td>hard rock, progressive rock</td>\n      <td>20.6</td>\n      <td>43</td>\n      <td>21-Oct-77</td>\n      <td>NaN</td>\n      <td>8.0</td>\n    </tr>\n  </tbody>\n</table>\n</div>",
                        "text/plain": "            Artist                      Album  Released   Length  \\\n0  Michael Jackson                   Thriller      1982  0:42:19   \n1            AC/DC              Back in Black      1980  0:42:11   \n2       Pink Floyd  The Dark Side of the Moon      1973  0:42:49   \n3  Whitney Houston              The Bodyguard      1992  0:57:44   \n4        Meat Loaf            Bat Out of Hell      1977  0:46:33   \n\n                         Genre  Music Recording Sales (millions)  \\\n0               pop, rock, R&B                              46.0   \n1                    hard rock                              26.1   \n2             progressive rock                              24.2   \n3               R&B, soul, pop                              27.4   \n4  hard rock, progressive rock                              20.6   \n\n   Claimed Sales (millions) Released.1 Soundtrack  Rating  \n0                        65  30-Nov-82        NaN    10.0  \n1                        50  25-Jul-80        NaN     9.5  \n2                        45  01-Mar-73        NaN     9.0  \n3                        44  17-Nov-92          Y     8.5  \n4                        43  21-Oct-77        NaN     8.0  "
                    },
                    "metadata": {}
                }
            ]
        },
        {
            "metadata": {},
            "cell_type": "code",
            "source": "",
            "execution_count": null,
            "outputs": []
        }
    ],
    "metadata": {
        "kernelspec": {
            "name": "python37",
            "display_name": "Python 3.7 with Spark",
            "language": "python3"
        },
        "language_info": {
            "mimetype": "text/x-python",
            "nbconvert_exporter": "python",
            "name": "python",
            "pygments_lexer": "ipython3",
            "version": "3.7.9",
            "file_extension": ".py",
            "codemirror_mode": {
                "version": 3,
                "name": "ipython"
            }
        }
    },
    "nbformat": 4,
    "nbformat_minor": 1
}